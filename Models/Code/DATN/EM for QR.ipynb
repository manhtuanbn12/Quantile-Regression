{
 "cells": [
  {
   "cell_type": "markdown",
   "metadata": {},
   "source": [
    "# EM algorithm for Quantile Regression"
   ]
  },
  {
   "cell_type": "markdown",
   "metadata": {},
   "source": [
    "## Import Library"
   ]
  },
  {
   "cell_type": "code",
   "execution_count": 1,
   "metadata": {},
   "outputs": [],
   "source": [
    "import numpy as np\n",
    "import pandas as pd\n",
    "import matplotlib.pyplot as plt"
   ]
  },
  {
   "cell_type": "markdown",
   "metadata": {},
   "source": [
    "## Import Data"
   ]
  },
  {
   "cell_type": "code",
   "execution_count": 2,
   "metadata": {},
   "outputs": [],
   "source": [
    "df = pd.read_csv(\"E:/20211/ĐATN/Models/Data/DATN/engel-data.txt\", sep=\" \")"
   ]
  },
  {
   "cell_type": "code",
   "execution_count": 3,
   "metadata": {},
   "outputs": [
    {
     "data": {
      "text/html": [
       "<div>\n",
       "<style scoped>\n",
       "    .dataframe tbody tr th:only-of-type {\n",
       "        vertical-align: middle;\n",
       "    }\n",
       "\n",
       "    .dataframe tbody tr th {\n",
       "        vertical-align: top;\n",
       "    }\n",
       "\n",
       "    .dataframe thead th {\n",
       "        text-align: right;\n",
       "    }\n",
       "</style>\n",
       "<table border=\"1\" class=\"dataframe\">\n",
       "  <thead>\n",
       "    <tr style=\"text-align: right;\">\n",
       "      <th></th>\n",
       "      <th>Unnamed: 0</th>\n",
       "      <th>Household_income</th>\n",
       "      <th>Food_expenditure</th>\n",
       "    </tr>\n",
       "  </thead>\n",
       "  <tbody>\n",
       "    <tr>\n",
       "      <td>0</td>\n",
       "      <td>NaN</td>\n",
       "      <td>420.157651</td>\n",
       "      <td>255.839425</td>\n",
       "    </tr>\n",
       "    <tr>\n",
       "      <td>1</td>\n",
       "      <td>NaN</td>\n",
       "      <td>541.411707</td>\n",
       "      <td>310.958667</td>\n",
       "    </tr>\n",
       "    <tr>\n",
       "      <td>2</td>\n",
       "      <td>NaN</td>\n",
       "      <td>901.157457</td>\n",
       "      <td>485.680014</td>\n",
       "    </tr>\n",
       "    <tr>\n",
       "      <td>3</td>\n",
       "      <td>NaN</td>\n",
       "      <td>639.080229</td>\n",
       "      <td>402.997356</td>\n",
       "    </tr>\n",
       "    <tr>\n",
       "      <td>4</td>\n",
       "      <td>NaN</td>\n",
       "      <td>750.875606</td>\n",
       "      <td>495.560775</td>\n",
       "    </tr>\n",
       "    <tr>\n",
       "      <td>...</td>\n",
       "      <td>...</td>\n",
       "      <td>...</td>\n",
       "      <td>...</td>\n",
       "    </tr>\n",
       "    <tr>\n",
       "      <td>230</td>\n",
       "      <td>NaN</td>\n",
       "      <td>440.517424</td>\n",
       "      <td>306.519079</td>\n",
       "    </tr>\n",
       "    <tr>\n",
       "      <td>231</td>\n",
       "      <td>NaN</td>\n",
       "      <td>541.200597</td>\n",
       "      <td>299.199328</td>\n",
       "    </tr>\n",
       "    <tr>\n",
       "      <td>232</td>\n",
       "      <td>NaN</td>\n",
       "      <td>581.359892</td>\n",
       "      <td>468.000798</td>\n",
       "    </tr>\n",
       "    <tr>\n",
       "      <td>233</td>\n",
       "      <td>NaN</td>\n",
       "      <td>743.077243</td>\n",
       "      <td>522.601906</td>\n",
       "    </tr>\n",
       "    <tr>\n",
       "      <td>234</td>\n",
       "      <td>NaN</td>\n",
       "      <td>1057.676711</td>\n",
       "      <td>750.320163</td>\n",
       "    </tr>\n",
       "  </tbody>\n",
       "</table>\n",
       "<p>235 rows × 3 columns</p>\n",
       "</div>"
      ],
      "text/plain": [
       "     Unnamed: 0  Household_income  Food_expenditure\n",
       "0           NaN        420.157651        255.839425\n",
       "1           NaN        541.411707        310.958667\n",
       "2           NaN        901.157457        485.680014\n",
       "3           NaN        639.080229        402.997356\n",
       "4           NaN        750.875606        495.560775\n",
       "..          ...               ...               ...\n",
       "230         NaN        440.517424        306.519079\n",
       "231         NaN        541.200597        299.199328\n",
       "232         NaN        581.359892        468.000798\n",
       "233         NaN        743.077243        522.601906\n",
       "234         NaN       1057.676711        750.320163\n",
       "\n",
       "[235 rows x 3 columns]"
      ]
     },
     "execution_count": 3,
     "metadata": {},
     "output_type": "execute_result"
    }
   ],
   "source": [
    "df"
   ]
  },
  {
   "cell_type": "code",
   "execution_count": 4,
   "metadata": {
    "scrolled": true
   },
   "outputs": [
    {
     "data": {
      "text/plain": [
       "Text(0, 0.5, 'Food expenditure')"
      ]
     },
     "execution_count": 4,
     "metadata": {},
     "output_type": "execute_result"
    },
    {
     "data": {
      "image/png": "[encoded data removed]",
      "text/plain": [
       "<Figure size 432x288 with 1 Axes>"
      ]
     },
     "metadata": {
      "needs_background": "light"
     },
     "output_type": "display_data"
    }
   ],
   "source": [
    "plt.scatter(df[\"Household_income\"], df[\"Food_expenditure\"])\n",
    "plt.xlabel(\"Household income\")\n",
    "plt.ylabel(\"Food expenditure\")"
   ]
  },
  {
   "cell_type": "markdown",
   "metadata": {},
   "source": [
    "### Add Column of $x_{0} = 1$"
   ]
  },
  {
   "cell_type": "code",
   "execution_count": 5,
   "metadata": {},
   "outputs": [],
   "source": [
    "n = len(df)"
   ]
  },
  {
   "cell_type": "code",
   "execution_count": 6,
   "metadata": {},
   "outputs": [],
   "source": [
    "one_array = np.ones([n,1])"
   ]
  },
  {
   "cell_type": "code",
   "execution_count": 7,
   "metadata": {},
   "outputs": [],
   "source": [
    "df['x0'] = one_array"
   ]
  },
  {
   "cell_type": "code",
   "execution_count": 8,
   "metadata": {
    "scrolled": true
   },
   "outputs": [
    {
     "data": {
      "text/html": [
       "<div>\n",
       "<style scoped>\n",
       "    .dataframe tbody tr th:only-of-type {\n",
       "        vertical-align: middle;\n",
       "    }\n",
       "\n",
       "    .dataframe tbody tr th {\n",
       "        vertical-align: top;\n",
       "    }\n",
       "\n",
       "    .dataframe thead th {\n",
       "        text-align: right;\n",
       "    }\n",
       "</style>\n",
       "<table border=\"1\" class=\"dataframe\">\n",
       "  <thead>\n",
       "    <tr style=\"text-align: right;\">\n",
       "      <th></th>\n",
       "      <th>Unnamed: 0</th>\n",
       "      <th>Household_income</th>\n",
       "      <th>Food_expenditure</th>\n",
       "      <th>x0</th>\n",
       "    </tr>\n",
       "  </thead>\n",
       "  <tbody>\n",
       "    <tr>\n",
       "      <td>0</td>\n",
       "      <td>NaN</td>\n",
       "      <td>420.157651</td>\n",
       "      <td>255.839425</td>\n",
       "      <td>1.0</td>\n",
       "    </tr>\n",
       "    <tr>\n",
       "      <td>1</td>\n",
       "      <td>NaN</td>\n",
       "      <td>541.411707</td>\n",
       "      <td>310.958667</td>\n",
       "      <td>1.0</td>\n",
       "    </tr>\n",
       "    <tr>\n",
       "      <td>2</td>\n",
       "      <td>NaN</td>\n",
       "      <td>901.157457</td>\n",
       "      <td>485.680014</td>\n",
       "      <td>1.0</td>\n",
       "    </tr>\n",
       "    <tr>\n",
       "      <td>3</td>\n",
       "      <td>NaN</td>\n",
       "      <td>639.080229</td>\n",
       "      <td>402.997356</td>\n",
       "      <td>1.0</td>\n",
       "    </tr>\n",
       "    <tr>\n",
       "      <td>4</td>\n",
       "      <td>NaN</td>\n",
       "      <td>750.875606</td>\n",
       "      <td>495.560775</td>\n",
       "      <td>1.0</td>\n",
       "    </tr>\n",
       "    <tr>\n",
       "      <td>...</td>\n",
       "      <td>...</td>\n",
       "      <td>...</td>\n",
       "      <td>...</td>\n",
       "      <td>...</td>\n",
       "    </tr>\n",
       "    <tr>\n",
       "      <td>230</td>\n",
       "      <td>NaN</td>\n",
       "      <td>440.517424</td>\n",
       "      <td>306.519079</td>\n",
       "      <td>1.0</td>\n",
       "    </tr>\n",
       "    <tr>\n",
       "      <td>231</td>\n",
       "      <td>NaN</td>\n",
       "      <td>541.200597</td>\n",
       "      <td>299.199328</td>\n",
       "      <td>1.0</td>\n",
       "    </tr>\n",
       "    <tr>\n",
       "      <td>232</td>\n",
       "      <td>NaN</td>\n",
       "      <td>581.359892</td>\n",
       "      <td>468.000798</td>\n",
       "      <td>1.0</td>\n",
       "    </tr>\n",
       "    <tr>\n",
       "      <td>233</td>\n",
       "      <td>NaN</td>\n",
       "      <td>743.077243</td>\n",
       "      <td>522.601906</td>\n",
       "      <td>1.0</td>\n",
       "    </tr>\n",
       "    <tr>\n",
       "      <td>234</td>\n",
       "      <td>NaN</td>\n",
       "      <td>1057.676711</td>\n",
       "      <td>750.320163</td>\n",
       "      <td>1.0</td>\n",
       "    </tr>\n",
       "  </tbody>\n",
       "</table>\n",
       "<p>235 rows × 4 columns</p>\n",
       "</div>"
      ],
      "text/plain": [
       "     Unnamed: 0  Household_income  Food_expenditure   x0\n",
       "0           NaN        420.157651        255.839425  1.0\n",
       "1           NaN        541.411707        310.958667  1.0\n",
       "2           NaN        901.157457        485.680014  1.0\n",
       "3           NaN        639.080229        402.997356  1.0\n",
       "4           NaN        750.875606        495.560775  1.0\n",
       "..          ...               ...               ...  ...\n",
       "230         NaN        440.517424        306.519079  1.0\n",
       "231         NaN        541.200597        299.199328  1.0\n",
       "232         NaN        581.359892        468.000798  1.0\n",
       "233         NaN        743.077243        522.601906  1.0\n",
       "234         NaN       1057.676711        750.320163  1.0\n",
       "\n",
       "[235 rows x 4 columns]"
      ]
     },
     "execution_count": 8,
     "metadata": {},
     "output_type": "execute_result"
    }
   ],
   "source": [
    "df"
   ]
  },
  {
   "cell_type": "code",
   "execution_count": 9,
   "metadata": {},
   "outputs": [],
   "source": [
    "X = np.array([df['x0'], df['Household_income']])"
   ]
  },
  {
   "cell_type": "code",
   "execution_count": 10,
   "metadata": {},
   "outputs": [],
   "source": [
    "Y = np.array(df['Food_expenditure']).reshape(n,1)"
   ]
  },
  {
   "cell_type": "markdown",
   "metadata": {},
   "source": [
    "## EM algorithm"
   ]
  },
  {
   "cell_type": "markdown",
   "metadata": {},
   "source": [
    "### Initialize $\\beta_{p}^{(0)}$"
   ]
  },
  {
   "cell_type": "code",
   "execution_count": 11,
   "metadata": {},
   "outputs": [],
   "source": [
    "beta_OLS = np.matmul(np.matmul(np.linalg.inv(np.matmul(X, X.transpose())),X),Y)"
   ]
  },
  {
   "cell_type": "code",
   "execution_count": 12,
   "metadata": {},
   "outputs": [
    {
     "data": {
      "text/plain": [
       "Text(0, 0.5, 'Food expenditure')"
      ]
     },
     "execution_count": 12,
     "metadata": {},
     "output_type": "execute_result"
    },
    {
     "data": {
      "image/png": "[encoded data removed]",
      "text/plain": [
       "<Figure size 432x288 with 1 Axes>"
      ]
     },
     "metadata": {
      "needs_background": "light"
     },
     "output_type": "display_data"
    }
   ],
   "source": [
    "plt.figure()\n",
    "plt.scatter(df[\"Household_income\"], df[\"Food_expenditure\"])\n",
    "plt.plot(df[\"Household_income\"], [beta_OLS[0]+x*beta_OLS[1] for x in df[\"Household_income\"]], color='red', label=\"Lin Reg\")\n",
    "plt.xlabel(\"Household income\")\n",
    "plt.ylabel(\"Food expenditure\")"
   ]
  },
  {
   "cell_type": "code",
   "execution_count": 13,
   "metadata": {},
   "outputs": [
    {
     "data": {
      "text/plain": [
       "array([[147.47538852],\n",
       "       [  0.48517842]])"
      ]
     },
     "execution_count": 13,
     "metadata": {},
     "output_type": "execute_result"
    }
   ],
   "source": [
    "beta_OLS"
   ]
  },
  {
   "cell_type": "markdown",
   "metadata": {},
   "source": [
    "### Update Formula"
   ]
  },
  {
   "cell_type": "code",
   "execution_count": 14,
   "metadata": {},
   "outputs": [],
   "source": [
    "num_iter = 50\n",
    "# p = 0.25"
   ]
  },
  {
   "cell_type": "code",
   "execution_count": 15,
   "metadata": {},
   "outputs": [],
   "source": [
    "def QR(X, Y, p):\n",
    "    # Initialization\n",
    "    beta_before = np.matmul(np.matmul(np.linalg.inv(np.matmul(X, X.transpose())),X),Y)\n",
    "    beta_loop = beta_before\n",
    "    # Parameter\n",
    "    theta = (1-2*p)*1. / (p*(1-p))\n",
    "    tau2 = 2./(p*(1-p))\n",
    "    # Function\n",
    "    for i in range(num_iter):\n",
    "        # Creating matrix W\n",
    "        W = np.zeros([n,n])\n",
    "        for j in range(n):\n",
    "            W[j,j] = (np.sqrt(theta**2 + 2*tau2)) / (np.abs(Y[j] - np.matmul(X[:,j],beta_loop)))\n",
    "        beta = np.matmul(np.linalg.inv(np.matmul(np.matmul(X, W),X.transpose())), np.matmul(np.matmul(X,W),Y)-theta*np.matmul(X,one_array))\n",
    "        beta_loop = beta\n",
    "    return beta"
   ]
  },
  {
   "cell_type": "code",
   "execution_count": 16,
   "metadata": {},
   "outputs": [
    {
     "data": {
      "text/plain": [
       "array([[95.48352598],\n",
       "       [ 0.47410321]])"
      ]
     },
     "execution_count": 16,
     "metadata": {},
     "output_type": "execute_result"
    }
   ],
   "source": [
    "# Try out\n",
    "QR(X, Y, 0.25)"
   ]
  },
  {
   "cell_type": "markdown",
   "metadata": {},
   "source": [
    "## Running Result"
   ]
  },
  {
   "cell_type": "code",
   "execution_count": 17,
   "metadata": {},
   "outputs": [],
   "source": [
    "# Result for 0.1, 0.2, ..., 0.9 quantiles.\n",
    "param = {}\n",
    "num = 10\n",
    "for i in range(1,num):\n",
    "    param[1./num*i] = QR(X, Y, 1./num*i)"
   ]
  },
  {
   "cell_type": "code",
   "execution_count": 18,
   "metadata": {},
   "outputs": [
    {
     "data": {
      "text/plain": [
       "{0.1: array([[110.1422608],\n",
       "        [  0.4017648]]), 0.2: array([[102.74214179],\n",
       "        [  0.44667854]]), 0.30000000000000004: array([[98.99998292],\n",
       "        [ 0.48146739]]), 0.4: array([[101.9598824 ],\n",
       "        [  0.50989646]]), 0.5: array([[82.66034321],\n",
       "        [ 0.55886345]]), 0.6000000000000001: array([[79.70470481],\n",
       "        [ 0.58584798]]), 0.7000000000000001: array([[79.28358885],\n",
       "        [ 0.60885104]]), 0.8: array([[56.03327212],\n",
       "        [ 0.66037117]]), 0.9: array([[64.84019279],\n",
       "        [ 0.6878257 ]])}"
      ]
     },
     "execution_count": 18,
     "metadata": {},
     "output_type": "execute_result"
    }
   ],
   "source": [
    "param"
   ]
  },
  {
   "cell_type": "markdown",
   "metadata": {},
   "source": [
    "## Plot Data with QR Line "
   ]
  },
  {
   "cell_type": "code",
   "execution_count": 20,
   "metadata": {},
   "outputs": [
    {
     "data": {
      "image/png": "[encoded data removed]",
      "text/plain": [
       "<Figure size 432x288 with 1 Axes>"
      ]
     },
     "metadata": {
      "needs_background": "light"
     },
     "output_type": "display_data"
    }
   ],
   "source": [
    "plt.figure()\n",
    "plt.scatter(df[\"Household_income\"], df[\"Food_expenditure\"])\n",
    "plt.xlabel(\"Household income\")\n",
    "plt.ylabel(\"Food expenditure\")\n",
    "#plt.plot(df[\"Household_income\"], [beta_OLS[0]+x*beta_OLS[1] for x in df[\"Household_income\"]])\n",
    "num = 10\n",
    "for i in range(1,num):\n",
    "    beta_quantile = param[1./num*i]\n",
    "    plt.plot(df[\"Household_income\"], [beta_quantile[0]+x*beta_quantile[1] for x in df[\"Household_income\"]])"
   ]
  }
 ],
 "metadata": {
  "kernelspec": {
   "display_name": "Python 3",
   "language": "python",
   "name": "python3"
  },
  "language_info": {
   "codemirror_mode": {
    "name": "ipython",
    "version": 3
   },
   "file_extension": ".py",
   "mimetype": "text/x-python",
   "name": "python",
   "nbconvert_exporter": "python",
   "pygments_lexer": "ipython3",
   "version": "3.6.9"
  }
 },
 "nbformat": 4,
 "nbformat_minor": 2
}
